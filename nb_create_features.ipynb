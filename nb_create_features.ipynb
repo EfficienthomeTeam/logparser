{
 "cells": [
  {
   "cell_type": "markdown",
   "metadata": {},
   "source": [
    "# What is done?\n",
    "\n",
    "#### 1. Downsampling to 1 min interval\n",
    "#### 2. Add lags to history and future"
   ]
  },
  {
   "cell_type": "code",
   "execution_count": 1,
   "metadata": {},
   "outputs": [],
   "source": [
    "import numpy as np\n",
    "import pandas as pd\n",
    "\n",
    "from tqdm import tqdm_notebook\n",
    "import re\n",
    "\n",
    "import matplotlib.pyplot as plt\n",
    "import seaborn as sns\n",
    "sns.set()\n",
    "%matplotlib inline\n",
    "\n",
    "from utils import *"
   ]
  },
  {
   "cell_type": "markdown",
   "metadata": {},
   "source": [
    "### 1. Load the data"
   ]
  },
  {
   "cell_type": "code",
   "execution_count": 2,
   "metadata": {
    "scrolled": true
   },
   "outputs": [],
   "source": [
    "data = pd.read_parquet('./data/raw_ts_10s_v1.parquet')"
   ]
  },
  {
   "cell_type": "code",
   "execution_count": 3,
   "metadata": {},
   "outputs": [
    {
     "name": "stdout",
     "output_type": "stream",
     "text": [
      "<class 'pandas.core.frame.DataFrame'>\n",
      "Int64Index: 30571 entries, 0 to 30570\n",
      "Data columns (total 6 columns):\n",
      "DATE    30571 non-null datetime64[ns]\n",
      "T1      30571 non-null float64\n",
      "T2      30571 non-null float64\n",
      "T3      30571 non-null float64\n",
      "T4      30571 non-null float64\n",
      "MODE    30571 non-null int8\n",
      "dtypes: datetime64[ns](1), float64(4), int8(1)\n",
      "memory usage: 1.4 MB\n"
     ]
    }
   ],
   "source": [
    "data.info()"
   ]
  },
  {
   "cell_type": "markdown",
   "metadata": {},
   "source": [
    "Downsample to `freq = 1 min`:"
   ]
  },
  {
   "cell_type": "code",
   "execution_count": 4,
   "metadata": {},
   "outputs": [],
   "source": [
    "def downsample(dataframe, freq='1min'):\n",
    "    ts = pd.DataFrame({'DATE': pd.date_range(start=dataframe['DATE'].min(),\n",
    "                                             end=dataframe['DATE'].max(),\n",
    "                                             freq=freq)})\n",
    "    return pd.merge(ts, dataframe, how='left', on='DATE')"
   ]
  },
  {
   "cell_type": "code",
   "execution_count": 5,
   "metadata": {},
   "outputs": [],
   "source": [
    "data_1m = downsample(data)"
   ]
  },
  {
   "cell_type": "markdown",
   "metadata": {},
   "source": [
    "### 2. Create time lags and add different statistics"
   ]
  },
  {
   "cell_type": "code",
   "execution_count": 6,
   "metadata": {},
   "outputs": [],
   "source": [
    "df = data_1m.copy()"
   ]
  },
  {
   "cell_type": "code",
   "execution_count": 7,
   "metadata": {},
   "outputs": [],
   "source": [
    "def add_lags(df, lags, forecast_period, original_columns, columns_to_lag):\n",
    "    df = df.copy()\n",
    "    for lag in tqdm_notebook(lags):\n",
    "        tdata = df[original_columns].copy()\n",
    "        tdata['DATE'] += pd.Timedelta(str(lag + forecast_period) + ' minutes')\n",
    "        dict_new_columns = {}\n",
    "        new_col_names = []\n",
    "        for col_name in ['T1', 'T2', 'T3', 'T4', 'MODE']:\n",
    "            dict_new_columns[col_name] = col_name + '_M' + str(lag + forecast_period)\n",
    "            new_col_names.append(col_name + '_M' + str(lag + forecast_period))\n",
    "        tdata.rename(columns=dict_new_columns, inplace=True)\n",
    "        df = pd.merge(df, tdata, how='left', on=['DATE'])\n",
    "    del tdata\n",
    "    return df"
   ]
  },
  {
   "cell_type": "code",
   "execution_count": 8,
   "metadata": {},
   "outputs": [],
   "source": [
    "lags = [0, 1, 2, 3, 4, 5, 10, 20, 30, 60, 120, 180, 240, 300, 360]\n",
    "forecast_period = 30\n",
    "original_columns = list(df.columns)\n",
    "columns_to_lag = ['T1', 'T2', 'T3', 'T4', 'MODE']"
   ]
  },
  {
   "cell_type": "code",
   "execution_count": 9,
   "metadata": {},
   "outputs": [
    {
     "data": {
      "application/vnd.jupyter.widget-view+json": {
       "model_id": "3a4c352aeb634078a285a5f62aef1b39",
       "version_major": 2,
       "version_minor": 0
      },
      "text/plain": [
       "HBox(children=(IntProgress(value=0, max=15), HTML(value='')))"
      ]
     },
     "metadata": {},
     "output_type": "display_data"
    },
    {
     "name": "stdout",
     "output_type": "stream",
     "text": [
      "\n"
     ]
    }
   ],
   "source": [
    "df_lags = add_lags(df, lags, forecast_period, original_columns, columns_to_lag)"
   ]
  },
  {
   "cell_type": "code",
   "execution_count": 10,
   "metadata": {},
   "outputs": [],
   "source": [
    "columns_to_diff = ['T1', 'T2', 'T3', 'T4']"
   ]
  },
  {
   "cell_type": "code",
   "execution_count": 11,
   "metadata": {},
   "outputs": [],
   "source": [
    "def add_diffs(df, lags, forecast_period, original_columns, columns_to_diff):\n",
    "    di = {}\n",
    "    df = df.copy()\n",
    "    for ix, lag in tqdm_notebook(enumerate(lags[:-1])):\n",
    "        next_lag = lags[ix + 1]\n",
    "        for j in range(3):\n",
    "            di[j] = []\n",
    "        for col_name in columns_to_diff:\n",
    "            di[0].append(col_name + '_diff_M' + str(lag + forecast_period))\n",
    "            di[1].append(col_name + '_M' + str(lag + forecast_period))\n",
    "            di[2].append(col_name + '_M' + str(next_lag + forecast_period))\n",
    "        tdata = pd.DataFrame(data=df[di[1]].values - df[di[2]].values, index=df.index, columns=di[0])\n",
    "        df = df.join(tdata)\n",
    "    del tdata\n",
    "    return df"
   ]
  },
  {
   "cell_type": "code",
   "execution_count": 12,
   "metadata": {},
   "outputs": [
    {
     "data": {
      "application/vnd.jupyter.widget-view+json": {
       "model_id": "fe424e644cfb4c7db4751c6794855fdd",
       "version_major": 2,
       "version_minor": 0
      },
      "text/plain": [
       "HBox(children=(IntProgress(value=1, bar_style='info', max=1), HTML(value='')))"
      ]
     },
     "metadata": {},
     "output_type": "display_data"
    },
    {
     "name": "stdout",
     "output_type": "stream",
     "text": [
      "\n"
     ]
    }
   ],
   "source": [
    "df_lags = add_diffs(df_lags, lags, forecast_period, original_columns, columns_to_diff)"
   ]
  },
  {
   "cell_type": "code",
   "execution_count": 13,
   "metadata": {},
   "outputs": [],
   "source": [
    "cols_to_stat = ['T1', 'T2', 'T3', 'T4']\n",
    "stat_indices = [2, 4]"
   ]
  },
  {
   "cell_type": "code",
   "execution_count": 14,
   "metadata": {},
   "outputs": [],
   "source": [
    "def add_stats(df, stat_indices, forecast_period, original_columns, cols_to_stat):\n",
    "    df = df.copy()\n",
    "    for ix in tqdm_notebook(stat_indices):\n",
    "        for col_name in cols_to_stat:\n",
    "            tmpstr = col_name + '_M'\n",
    "            tmpli = np.core.defchararray.add(tmpstr, np.arange(forecast_period, forecast_period + ix).astype(np.str))\n",
    "            tmp = df[tmpli]\n",
    "            df[col_name + '_mean_' + str(ix)] = tmp.mean(axis=1).astype(np.float32)\n",
    "            # new mean decay\n",
    "            df[col_name + '_mean_decay_' + str(ix)] = tmp.mul(np.power(0.9, np.arange(ix)), axis=1)\\\n",
    "                                                            .sum(axis=1).astype(np.float32)\n",
    "            df[col_name + '_median_' + str(ix)] = tmp.median(axis=1).astype(np.float32)\n",
    "            df[col_name + '_min_' + str(ix)] = tmp.min(axis=1).astype(np.float32)\n",
    "            df[col_name + '_max_' + str(ix)] = tmp.max(axis=1).astype(np.float32)\n",
    "    del tmp\n",
    "    return df"
   ]
  },
  {
   "cell_type": "code",
   "execution_count": 15,
   "metadata": {},
   "outputs": [
    {
     "data": {
      "application/vnd.jupyter.widget-view+json": {
       "model_id": "4841cf15e7da4919a3b5b4e598c8a824",
       "version_major": 2,
       "version_minor": 0
      },
      "text/plain": [
       "HBox(children=(IntProgress(value=0, max=2), HTML(value='')))"
      ]
     },
     "metadata": {},
     "output_type": "display_data"
    },
    {
     "name": "stderr",
     "output_type": "stream",
     "text": [
      "C:\\Users\\i344436\\AppData\\Local\\Continuum\\anaconda3\\envs\\tf\\lib\\site-packages\\numpy\\lib\\function_base.py:3250: RuntimeWarning: All-NaN slice encountered\n",
      "  r = func(a, **kwargs)\n"
     ]
    },
    {
     "name": "stdout",
     "output_type": "stream",
     "text": [
      "\n"
     ]
    }
   ],
   "source": [
    "df_lags = add_stats(df_lags, stat_indices, forecast_period, original_columns, cols_to_stat)"
   ]
  },
  {
   "cell_type": "markdown",
   "metadata": {},
   "source": [
    "### 3. Add `MODE` sequence to features"
   ]
  },
  {
   "cell_type": "code",
   "execution_count": 16,
   "metadata": {},
   "outputs": [],
   "source": [
    "def add_mode_seq(df, forecast_period):\n",
    "    df = df.copy()\n",
    "    for lag in tqdm_notebook(range(1, forecast_period)):\n",
    "        tdata = df[['DATE', 'MODE']].copy()\n",
    "        tdata['DATE'] += pd.Timedelta(str(-lag + forecast_period) + ' minutes')\n",
    "        dict_new_columns = {}\n",
    "        new_col_names = []\n",
    "        for col_name in ['MODE']:\n",
    "            dict_new_columns[col_name] = col_name + '_M' + str(-lag + forecast_period)\n",
    "            new_col_names.append(col_name + '_M' + str(-lag + forecast_period))\n",
    "        tdata.rename(columns=dict_new_columns, inplace=True)\n",
    "        df = pd.merge(df, tdata, how='left', on=['DATE'])\n",
    "    del tdata\n",
    "    return df"
   ]
  },
  {
   "cell_type": "code",
   "execution_count": 17,
   "metadata": {},
   "outputs": [
    {
     "data": {
      "application/vnd.jupyter.widget-view+json": {
       "model_id": "4e5e654f0813447f8e212f11a72897c9",
       "version_major": 2,
       "version_minor": 0
      },
      "text/plain": [
       "HBox(children=(IntProgress(value=0, max=29), HTML(value='')))"
      ]
     },
     "metadata": {},
     "output_type": "display_data"
    },
    {
     "name": "stdout",
     "output_type": "stream",
     "text": [
      "\n"
     ]
    }
   ],
   "source": [
    "df_lags_seq = add_mode_seq(df_lags, forecast_period)"
   ]
  },
  {
   "cell_type": "markdown",
   "metadata": {},
   "source": [
    "### 4. Drop lines with NaN in history:"
   ]
  },
  {
   "cell_type": "code",
   "execution_count": 18,
   "metadata": {},
   "outputs": [
    {
     "name": "stdout",
     "output_type": "stream",
     "text": [
      "Init. shape:  (5096, 206)\n",
      "Final shape:  (4706, 206)\n"
     ]
    }
   ],
   "source": [
    "print('Init. shape: ', df_lags_seq.shape)\n",
    "df_lags_seq = df_lags_seq[df_lags_seq['T1_M390'].notnull()].copy()\n",
    "print('Final shape: ', df_lags_seq.shape)"
   ]
  },
  {
   "cell_type": "markdown",
   "metadata": {},
   "source": [
    "Cast `MODE` columns to int8:"
   ]
  },
  {
   "cell_type": "code",
   "execution_count": 20,
   "metadata": {},
   "outputs": [],
   "source": [
    "int_cols = [s for s in df_lags_seq.columns if 'MODE' in s]\n",
    "df_lags_seq[int_cols] = df_lags_seq[int_cols].astype(np.int8)"
   ]
  },
  {
   "cell_type": "code",
   "execution_count": 21,
   "metadata": {},
   "outputs": [],
   "source": [
    "df_lags_seq.to_parquet('./data/ds_1min_30min_v1.parquet')"
   ]
  }
 ],
 "metadata": {
  "kernelspec": {
   "display_name": "Python 3",
   "language": "python",
   "name": "python3"
  },
  "language_info": {
   "codemirror_mode": {
    "name": "ipython",
    "version": 3
   },
   "file_extension": ".py",
   "mimetype": "text/x-python",
   "name": "python",
   "nbconvert_exporter": "python",
   "pygments_lexer": "ipython3",
   "version": "3.6.7"
  }
 },
 "nbformat": 4,
 "nbformat_minor": 2
}

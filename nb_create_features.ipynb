{
 "cells": [
  {
   "cell_type": "markdown",
   "metadata": {},
   "source": [
    "# What is done?\n",
    "\n",
    "#### 1. Downsampling to 10 min interval\n",
    "#### 2. Add lags to history and future"
   ]
  },
  {
   "cell_type": "code",
   "execution_count": 1,
   "metadata": {},
   "outputs": [],
   "source": [
    "import numpy as np\n",
    "import pandas as pd\n",
    "\n",
    "from tqdm import tqdm_notebook\n",
    "import re\n",
    "\n",
    "import matplotlib.pyplot as plt\n",
    "import seaborn as sns\n",
    "sns.set()\n",
    "%matplotlib inline\n",
    "\n",
    "from utils import *"
   ]
  },
  {
   "cell_type": "markdown",
   "metadata": {},
   "source": [
    "### 1. Load the data"
   ]
  },
  {
   "cell_type": "code",
   "execution_count": 2,
   "metadata": {
    "scrolled": true
   },
   "outputs": [],
   "source": [
    "data = pd.read_parquet('./data/dataset_cleared_v1.parquet')"
   ]
  },
  {
   "cell_type": "code",
   "execution_count": 3,
   "metadata": {},
   "outputs": [],
   "source": [
    "mode_col = 'HEATER'\n",
    "mode_col_smooth = 'HEATER_SM'"
   ]
  },
  {
   "cell_type": "code",
   "execution_count": 4,
   "metadata": {},
   "outputs": [],
   "source": [
    "# smooth mode to reduce the downsampling errors\n",
    "# data[mode_col_smooth] = data[mode_col].shift(-6).rolling(6).mean()\n",
    "# data[mode_col_smooth] = (data[mode_col].rolling(6).mean() + data[mode_col_smooth]) / 2\n",
    "\n",
    "# def detect_ix(data, window=63):\n",
    "#    return int((data[data[mode_col] != 0].index[0] + window / 2) % window)\n",
    "\n",
    "# # debugging \n",
    "# start = 10 * 90\n",
    "# end = 10 * 100\n",
    "# shift = detect_ix(data, window=63)\n",
    "# plt.figure(figsize=(10,5))\n",
    "# plt.plot(range(start, end), data[mode_col].iloc[start:end], c='g')\n",
    "# plt.plot(range(start, end), data[mode_col_smooth].iloc[start:end], c='r')\n",
    "# #plt.plot(data.MODE.iloc[0:N:60], c='r')\n",
    "# plt.plot(range(shift + start, end + shift, 63), data[mode_col_smooth].iloc[start + shift: end+ shift:63].values, c='b')\n",
    "# plt.show()"
   ]
  },
  {
   "cell_type": "markdown",
   "metadata": {},
   "source": [
    "Downsample to `freq = 5 min`:"
   ]
  },
  {
   "cell_type": "code",
   "execution_count": 24,
   "metadata": {},
   "outputs": [],
   "source": [
    "def downsample(dataframe, freq='1min'):\n",
    "    ts = pd.DataFrame({'DATE': pd.date_range(start=dataframe['DATE'].min(),\n",
    "                                             end=dataframe['DATE'].max(),\n",
    "                                             freq=freq)})\n",
    "    return pd.merge(ts, dataframe, how='left', on='DATE')"
   ]
  },
  {
   "cell_type": "code",
   "execution_count": 25,
   "metadata": {},
   "outputs": [],
   "source": [
    "# # detect the center of positive impuls and move time series to that point\n",
    "# # after that -> downsample\n",
    "\n",
    "# freq = '10 min'\n",
    "# # data_dw = downsample(data.iloc[detect_ix(data, window=63):], freq=freq)\n",
    "\n",
    "freq = 5 # 1 = 1 min\n",
    "data['GROUP_ID'] = data.index // freq\n",
    "\n",
    "data_dw = data.groupby(by='GROUP_ID').agg({\n",
    "    'HEATER': 'sum',\n",
    "    'SMALL_LAMP': 'mean',\n",
    "    'BIG_LAMP': 'mean',\n",
    "    'EXT_T': 'mean',\n",
    "    'TOP_T': 'mean',\n",
    "    'MIDDLE_T': 'mean',\n",
    "    'ENERGY_PULSES': 'mean',\n",
    "    'ENERGY_WH': 'mean',\n",
    "    'DATE': 'last'\n",
    "}).reset_index().drop(['GROUP_ID'], axis=1)"
   ]
  },
  {
   "cell_type": "markdown",
   "metadata": {},
   "source": [
    "### 2. Create time lags and add different statistics"
   ]
  },
  {
   "cell_type": "code",
   "execution_count": 26,
   "metadata": {},
   "outputs": [],
   "source": [
    "df = data_dw.copy()\n",
    "df['INDEX'] = np.arange(df.shape[0])"
   ]
  },
  {
   "cell_type": "code",
   "execution_count": 27,
   "metadata": {},
   "outputs": [
    {
     "data": {
      "text/html": [
       "<div>\n",
       "<style scoped>\n",
       "    .dataframe tbody tr th:only-of-type {\n",
       "        vertical-align: middle;\n",
       "    }\n",
       "\n",
       "    .dataframe tbody tr th {\n",
       "        vertical-align: top;\n",
       "    }\n",
       "\n",
       "    .dataframe thead th {\n",
       "        text-align: right;\n",
       "    }\n",
       "</style>\n",
       "<table border=\"1\" class=\"dataframe\">\n",
       "  <thead>\n",
       "    <tr style=\"text-align: right;\">\n",
       "      <th></th>\n",
       "      <th>HEATER</th>\n",
       "      <th>SMALL_LAMP</th>\n",
       "      <th>BIG_LAMP</th>\n",
       "      <th>EXT_T</th>\n",
       "      <th>TOP_T</th>\n",
       "      <th>MIDDLE_T</th>\n",
       "      <th>ENERGY_PULSES</th>\n",
       "      <th>ENERGY_WH</th>\n",
       "      <th>DATE</th>\n",
       "      <th>INDEX</th>\n",
       "    </tr>\n",
       "  </thead>\n",
       "  <tbody>\n",
       "    <tr>\n",
       "      <th>0</th>\n",
       "      <td>1.0</td>\n",
       "      <td>0.0</td>\n",
       "      <td>0.0</td>\n",
       "      <td>-0.62</td>\n",
       "      <td>47.50</td>\n",
       "      <td>43.36</td>\n",
       "      <td>8.8</td>\n",
       "      <td>1.4</td>\n",
       "      <td>2019-01-31 00:04:23</td>\n",
       "      <td>0</td>\n",
       "    </tr>\n",
       "    <tr>\n",
       "      <th>1</th>\n",
       "      <td>1.0</td>\n",
       "      <td>0.0</td>\n",
       "      <td>0.0</td>\n",
       "      <td>-0.60</td>\n",
       "      <td>46.94</td>\n",
       "      <td>43.18</td>\n",
       "      <td>34.8</td>\n",
       "      <td>5.6</td>\n",
       "      <td>2019-01-31 00:09:23</td>\n",
       "      <td>1</td>\n",
       "    </tr>\n",
       "    <tr>\n",
       "      <th>2</th>\n",
       "      <td>3.0</td>\n",
       "      <td>0.0</td>\n",
       "      <td>0.0</td>\n",
       "      <td>-0.50</td>\n",
       "      <td>46.10</td>\n",
       "      <td>42.28</td>\n",
       "      <td>36.6</td>\n",
       "      <td>5.8</td>\n",
       "      <td>2019-01-31 00:14:23</td>\n",
       "      <td>2</td>\n",
       "    </tr>\n",
       "    <tr>\n",
       "      <th>3</th>\n",
       "      <td>0.0</td>\n",
       "      <td>0.0</td>\n",
       "      <td>0.0</td>\n",
       "      <td>-0.48</td>\n",
       "      <td>44.86</td>\n",
       "      <td>41.60</td>\n",
       "      <td>15.8</td>\n",
       "      <td>2.6</td>\n",
       "      <td>2019-01-31 00:19:23</td>\n",
       "      <td>3</td>\n",
       "    </tr>\n",
       "    <tr>\n",
       "      <th>4</th>\n",
       "      <td>4.0</td>\n",
       "      <td>0.0</td>\n",
       "      <td>0.0</td>\n",
       "      <td>-0.42</td>\n",
       "      <td>43.74</td>\n",
       "      <td>40.90</td>\n",
       "      <td>27.0</td>\n",
       "      <td>4.2</td>\n",
       "      <td>2019-01-31 00:24:23</td>\n",
       "      <td>4</td>\n",
       "    </tr>\n",
       "  </tbody>\n",
       "</table>\n",
       "</div>"
      ],
      "text/plain": [
       "   HEATER  SMALL_LAMP  BIG_LAMP  EXT_T  TOP_T  MIDDLE_T  ENERGY_PULSES  \\\n",
       "0     1.0         0.0       0.0  -0.62  47.50     43.36            8.8   \n",
       "1     1.0         0.0       0.0  -0.60  46.94     43.18           34.8   \n",
       "2     3.0         0.0       0.0  -0.50  46.10     42.28           36.6   \n",
       "3     0.0         0.0       0.0  -0.48  44.86     41.60           15.8   \n",
       "4     4.0         0.0       0.0  -0.42  43.74     40.90           27.0   \n",
       "\n",
       "   ENERGY_WH                DATE  INDEX  \n",
       "0        1.4 2019-01-31 00:04:23      0  \n",
       "1        5.6 2019-01-31 00:09:23      1  \n",
       "2        5.8 2019-01-31 00:14:23      2  \n",
       "3        2.6 2019-01-31 00:19:23      3  \n",
       "4        4.2 2019-01-31 00:24:23      4  "
      ]
     },
     "execution_count": 27,
     "metadata": {},
     "output_type": "execute_result"
    }
   ],
   "source": [
    "df.head()"
   ]
  },
  {
   "cell_type": "code",
   "execution_count": 28,
   "metadata": {},
   "outputs": [],
   "source": [
    "def add_lags(df, lags, forecast_period, original_columns, columns_to_lag, time_step=1):\n",
    "    df = df.copy()\n",
    "    for lag in tqdm_notebook(lags):\n",
    "        tdata = df[original_columns].copy()\n",
    "        tdata['INDEX'] += lag * time_step + forecast_period\n",
    "        dict_new_columns = {}\n",
    "        new_col_names = []\n",
    "        for col_name in columns_to_lag:\n",
    "            dict_new_columns[col_name] = col_name + '_M' + str(lag * time_step + forecast_period)\n",
    "            new_col_names.append(col_name + '_M' + str(lag * time_step + forecast_period))\n",
    "        tdata.rename(columns=dict_new_columns, inplace=True)\n",
    "        df = pd.merge(df, tdata, how='left', on=['INDEX'])\n",
    "    del tdata\n",
    "    return df"
   ]
  },
  {
   "cell_type": "code",
   "execution_count": 29,
   "metadata": {},
   "outputs": [],
   "source": [
    "lags = [0, 1, 2, 3, 4, 5, 10, 15]\n",
    "forecast_period = 2\n",
    "time_step = 1\n",
    "original_columns = ['INDEX', 'EXT_T', 'TOP_T', 'MIDDLE_T', 'HEATER']\n",
    "columns_to_lag = ['EXT_T', 'TOP_T', 'MIDDLE_T', 'HEATER']"
   ]
  },
  {
   "cell_type": "code",
   "execution_count": 30,
   "metadata": {},
   "outputs": [
    {
     "data": {
      "application/vnd.jupyter.widget-view+json": {
       "model_id": "b6cdfffef5c54b52ac219fd5a2cd58d8",
       "version_major": 2,
       "version_minor": 0
      },
      "text/plain": [
       "HBox(children=(IntProgress(value=0, max=8), HTML(value='')))"
      ]
     },
     "metadata": {},
     "output_type": "display_data"
    },
    {
     "name": "stdout",
     "output_type": "stream",
     "text": [
      "\n"
     ]
    }
   ],
   "source": [
    "df_lags = add_lags(df, lags, forecast_period, original_columns, columns_to_lag, time_step)"
   ]
  },
  {
   "cell_type": "code",
   "execution_count": 31,
   "metadata": {},
   "outputs": [],
   "source": [
    "columns_to_diff = ['EXT_T', 'TOP_T', 'MIDDLE_T']"
   ]
  },
  {
   "cell_type": "code",
   "execution_count": 32,
   "metadata": {},
   "outputs": [],
   "source": [
    "def add_diffs(df, lags, forecast_period, original_columns, columns_to_diff, time_step):\n",
    "    di = {}\n",
    "    df = df.copy()\n",
    "    for ix, lag in tqdm_notebook(enumerate(lags[:-1])):\n",
    "        next_lag = lags[ix + 1]\n",
    "        for j in range(3):\n",
    "            di[j] = []\n",
    "        for col_name in columns_to_diff:\n",
    "            di[0].append(col_name + '_diff_M' + str(lag * time_step + forecast_period))\n",
    "            di[1].append(col_name + '_M' + str(lag * time_step + forecast_period))\n",
    "            di[2].append(col_name + '_M' + str(next_lag * time_step + forecast_period))\n",
    "        tdata = pd.DataFrame(data=df[di[1]].values - df[di[2]].values, index=df.index, columns=di[0])\n",
    "        df = df.join(tdata)\n",
    "    del tdata\n",
    "    return df"
   ]
  },
  {
   "cell_type": "code",
   "execution_count": 33,
   "metadata": {},
   "outputs": [
    {
     "data": {
      "application/vnd.jupyter.widget-view+json": {
       "model_id": "1fbd52a40c89485691b8b2cf8c82925f",
       "version_major": 2,
       "version_minor": 0
      },
      "text/plain": [
       "HBox(children=(IntProgress(value=1, bar_style='info', max=1), HTML(value='')))"
      ]
     },
     "metadata": {},
     "output_type": "display_data"
    },
    {
     "name": "stdout",
     "output_type": "stream",
     "text": [
      "\n"
     ]
    }
   ],
   "source": [
    "df_lags = add_diffs(df_lags, lags, forecast_period, original_columns, columns_to_diff, time_step)"
   ]
  },
  {
   "cell_type": "code",
   "execution_count": 35,
   "metadata": {},
   "outputs": [],
   "source": [
    "cols_to_stat = ['EXT_T', 'TOP_T', 'MIDDLE_T']\n",
    "stat_indices = [2, 4 ,6]"
   ]
  },
  {
   "cell_type": "code",
   "execution_count": 36,
   "metadata": {},
   "outputs": [],
   "source": [
    "def add_stats(df, stat_indices, forecast_period, original_columns, cols_to_stat, time_step):\n",
    "    df = df.copy()\n",
    "    for ix in tqdm_notebook(stat_indices):\n",
    "        for col_name in cols_to_stat:\n",
    "            tmpstr = col_name + '_M'\n",
    "            tmpli = np.core.defchararray.add(tmpstr,\n",
    "                                             np.arange(forecast_period,\n",
    "                                                       forecast_period + ix * time_step, step=time_step)\\\n",
    "                                             .astype(np.str))\n",
    "            tmp = df[tmpli]\n",
    "            df[col_name + '_mean_' + str(ix * time_step)] = tmp.mean(axis=1).astype(np.float32)\n",
    "            # new mean decay\n",
    "            df[col_name + '_mean_decay_' + str(ix * time_step)] = tmp.mul(\n",
    "                                                    np.power(0.9, np.arange(ix * time_step, step=time_step)), axis=1)\\\n",
    "                                                         .sum(axis=1).astype(np.float32)\n",
    "            df[col_name + '_median_' + str(ix * time_step)] = tmp.median(axis=1).astype(np.float32)\n",
    "            df[col_name + '_min_' + str(ix * time_step)] = tmp.min(axis=1).astype(np.float32)\n",
    "            df[col_name + '_max_' + str(ix * time_step)] = tmp.max(axis=1).astype(np.float32)\n",
    "    del tmp\n",
    "    return df"
   ]
  },
  {
   "cell_type": "code",
   "execution_count": 37,
   "metadata": {},
   "outputs": [
    {
     "data": {
      "application/vnd.jupyter.widget-view+json": {
       "model_id": "65877871adbe4b1da6c4a78f0e50696b",
       "version_major": 2,
       "version_minor": 0
      },
      "text/plain": [
       "HBox(children=(IntProgress(value=0, max=3), HTML(value='')))"
      ]
     },
     "metadata": {},
     "output_type": "display_data"
    },
    {
     "name": "stdout",
     "output_type": "stream",
     "text": [
      "\n"
     ]
    }
   ],
   "source": [
    "df_lags = add_stats(df_lags, stat_indices, forecast_period, original_columns, cols_to_stat, time_step)"
   ]
  },
  {
   "cell_type": "markdown",
   "metadata": {},
   "source": [
    "### 3. Add `MODE` sequence to features"
   ]
  },
  {
   "cell_type": "code",
   "execution_count": 38,
   "metadata": {},
   "outputs": [],
   "source": [
    "def add_mode_seq(df, forecast_period, time_step):\n",
    "    df = df.copy()\n",
    "    for lag in tqdm_notebook(range(1, forecast_period + 1, time_step)):\n",
    "        tdata = df[['INDEX', mode_col]].copy()\n",
    "        tdata['INDEX'] += -lag * time_step + forecast_period\n",
    "        dict_new_columns = {}\n",
    "        new_col_names = []\n",
    "        for col_name in columns_to_lag:\n",
    "            dict_new_columns[col_name] = col_name + '_M' + str(-lag * time_step + forecast_period)\n",
    "            new_col_names.append(col_name + '_M' + str(-lag * time_step + forecast_period))\n",
    "        tdata.rename(columns=dict_new_columns, inplace=True)\n",
    "        df = pd.merge(df, tdata, how='left', on=['INDEX'])\n",
    "    del tdata\n",
    "    return df"
   ]
  },
  {
   "cell_type": "code",
   "execution_count": 39,
   "metadata": {},
   "outputs": [
    {
     "data": {
      "application/vnd.jupyter.widget-view+json": {
       "model_id": "093b0df4e4ef42979d0e2e755e88196a",
       "version_major": 2,
       "version_minor": 0
      },
      "text/plain": [
       "HBox(children=(IntProgress(value=0, max=2), HTML(value='')))"
      ]
     },
     "metadata": {},
     "output_type": "display_data"
    },
    {
     "name": "stdout",
     "output_type": "stream",
     "text": [
      "\n"
     ]
    }
   ],
   "source": [
    "df_lags_seq = add_mode_seq(df_lags, forecast_period, time_step)"
   ]
  },
  {
   "cell_type": "markdown",
   "metadata": {},
   "source": [
    "### 4. Drop lines with NaN in history:"
   ]
  },
  {
   "cell_type": "code",
   "execution_count": 40,
   "metadata": {},
   "outputs": [
    {
     "name": "stdout",
     "output_type": "stream",
     "text": [
      "Init. shape:  (1512, 110)\n",
      "Final shape:  (1495, 110)\n"
     ]
    }
   ],
   "source": [
    "str_max_lag = forecast_period + max(lags)\n",
    "print('Init. shape: ', df_lags_seq.shape)\n",
    "df_lags_seq = df_lags_seq[df_lags_seq['EXT_T_M%s' % str_max_lag].notnull()].copy()\n",
    "print('Final shape: ', df_lags_seq.shape)"
   ]
  },
  {
   "cell_type": "markdown",
   "metadata": {},
   "source": [
    "Cast `HEATER` columns to int8:"
   ]
  },
  {
   "cell_type": "code",
   "execution_count": 41,
   "metadata": {},
   "outputs": [],
   "source": [
    "int_cols = [s for s in df_lags_seq.columns if 'HEATER' in s]\n",
    "df_lags_seq[int_cols] = df_lags_seq[int_cols].astype(np.int8)"
   ]
  },
  {
   "cell_type": "code",
   "execution_count": 43,
   "metadata": {},
   "outputs": [],
   "source": [
    "df_lags_seq.to_parquet('./data/dataset_featured_v1.parquet')\n",
    "# dataset_features_v1.parquet - Timestep = '5 min', forecast= 2 x Timestep"
   ]
  },
  {
   "cell_type": "code",
   "execution_count": null,
   "metadata": {},
   "outputs": [],
   "source": []
  }
 ],
 "metadata": {
  "kernelspec": {
   "display_name": "Python 3",
   "language": "python",
   "name": "python3"
  },
  "language_info": {
   "codemirror_mode": {
    "name": "ipython",
    "version": 3
   },
   "file_extension": ".py",
   "mimetype": "text/x-python",
   "name": "python",
   "nbconvert_exporter": "python",
   "pygments_lexer": "ipython3",
   "version": "3.6.7"
  }
 },
 "nbformat": 4,
 "nbformat_minor": 2
}

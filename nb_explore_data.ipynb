{
 "cells": [
  {
   "cell_type": "code",
   "execution_count": 1,
   "metadata": {},
   "outputs": [],
   "source": [
    "import numpy as np\n",
    "import pandas as pd\n",
    "import os\n",
    "from os.path import join as jp\n",
    "from warnings import warn\n",
    "\n",
    "from tqdm import tqdm_notebook\n",
    "import re\n",
    "\n",
    "import matplotlib.pyplot as plt\n",
    "import seaborn as sns\n",
    "sns.set()\n",
    "%matplotlib inline\n",
    "\n",
    "from logparser import *\n",
    "from utils import *"
   ]
  },
  {
   "cell_type": "code",
   "execution_count": null,
   "metadata": {
    "scrolled": true
   },
   "outputs": [
    {
     "name": "stderr",
     "output_type": "stream",
     "text": [
      "0it [00:00, ?it/s]\n",
      "0it [00:00, ?it/s]\n",
      "22it [00:00, 3675.99it/s]\n",
      "0it [00:00, ?it/s]\n",
      "165it [00:00, 13787.71it/s]\n",
      "0it [00:00, ?it/s]\n",
      "3it [00:00, 25.49it/s]/s]\n",
      "0it [00:00, ?it/s]\n",
      "13it [00:00, 1086.85it/s]\n",
      "0it [00:00, ?it/s]C:\\Users\\i344436\\OneDrive - SAP SE\\Git\\eHome\\logparser\\logparser.py:49: UserWarning: Possibly missing value in 47 line of file `./log_dir/data-2018-12-14-21.log` \n",
      "  warn(\"Possibly missing value in %s line of file `%s` \" % (i+1, fp))\n",
      "C:\\Users\\i344436\\OneDrive - SAP SE\\Git\\eHome\\logparser\\logparser.py:49: UserWarning: Possibly missing value in 181 line of file `./log_dir/data-2018-12-14-21.log` \n",
      "  warn(\"Possibly missing value in %s line of file `%s` \" % (i+1, fp))\n",
      "\n",
      "5it [00:00, 23.01it/s]t/s]\n",
      "0it [00:00, ?it/s]\n",
      "223it [00:00, 11772.86it/s]\n",
      "0it [00:00, ?it/s]\n",
      "115it [00:00, 10480.52it/s]\n",
      "0it [00:00, ?it/s]\n",
      "8it [00:00, 22.78it/s]it/s]\n",
      "0it [00:00, ?it/s]\n",
      "343it [00:00, 15635.59it/s]\n"
     ]
    }
   ],
   "source": [
    "data = convert_folder('./log_dir/')"
   ]
  },
  {
   "cell_type": "code",
   "execution_count": null,
   "metadata": {},
   "outputs": [],
   "source": [
    "data = data.sort_values(by='DATE')"
   ]
  },
  {
   "cell_type": "code",
   "execution_count": null,
   "metadata": {
    "scrolled": true
   },
   "outputs": [],
   "source": [
    "print('init shape: \\t', data.shape)\n",
    "df = data[~data.isnull().sum(axis=1).astype(bool).values].reset_index(drop=True).copy()\n",
    "print('notnull shape: \\t', df.shape)"
   ]
  },
  {
   "cell_type": "code",
   "execution_count": null,
   "metadata": {},
   "outputs": [],
   "source": [
    "df = df[df['DATE'] >= '2018-12-17']"
   ]
  },
  {
   "cell_type": "code",
   "execution_count": null,
   "metadata": {},
   "outputs": [],
   "source": [
    "df['MODE'] = df['MODE'].map({'on': 1, 'off': 0})"
   ]
  },
  {
   "cell_type": "code",
   "execution_count": null,
   "metadata": {
    "scrolled": false
   },
   "outputs": [],
   "source": [
    "plot_ts(df)"
   ]
  },
  {
   "cell_type": "code",
   "execution_count": null,
   "metadata": {},
   "outputs": [],
   "source": [
    "df_part = df.iloc[-5500: -5000]"
   ]
  },
  {
   "cell_type": "code",
   "execution_count": null,
   "metadata": {
    "scrolled": false
   },
   "outputs": [],
   "source": [
    "plot_ts(df_part)"
   ]
  },
  {
   "cell_type": "code",
   "execution_count": null,
   "metadata": {},
   "outputs": [],
   "source": []
  }
 ],
 "metadata": {
  "kernelspec": {
   "display_name": "Python 3",
   "language": "python",
   "name": "python3"
  },
  "language_info": {
   "codemirror_mode": {
    "name": "ipython",
    "version": 3
   },
   "file_extension": ".py",
   "mimetype": "text/x-python",
   "name": "python",
   "nbconvert_exporter": "python",
   "pygments_lexer": "ipython3",
   "version": "3.6.7"
  }
 },
 "nbformat": 4,
 "nbformat_minor": 2
}

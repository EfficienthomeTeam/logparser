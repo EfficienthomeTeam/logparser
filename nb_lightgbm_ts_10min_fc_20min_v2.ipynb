{
 "cells": [
  {
   "cell_type": "markdown",
   "metadata": {},
   "source": [
    "# What is done?\n",
    "### 1. Train baseline LightGBM model on 20 min forecasting\n",
    "### 2. `HEATER` instead of `BANKA`"
   ]
  },
  {
   "cell_type": "code",
   "execution_count": 54,
   "metadata": {},
   "outputs": [],
   "source": [
    "import numpy as np\n",
    "import pandas as pd\n",
    "\n",
    "from tqdm import tqdm_notebook\n",
    "import re\n",
    "\n",
    "import matplotlib.pyplot as plt\n",
    "import seaborn as sns\n",
    "sns.set()\n",
    "%matplotlib inline\n",
    "\n",
    "import lightgbm as lgb\n",
    "#import shap\n",
    "import pickle\n",
    "\n",
    "#shap.initjs()\n",
    "\n",
    "from utils import *"
   ]
  },
  {
   "cell_type": "code",
   "execution_count": 55,
   "metadata": {},
   "outputs": [
    {
     "name": "stdout",
     "output_type": "stream",
     "text": [
      "Shape:  (1495, 110)\n"
     ]
    },
    {
     "data": {
      "text/html": [
       "<div>\n",
       "<style scoped>\n",
       "    .dataframe tbody tr th:only-of-type {\n",
       "        vertical-align: middle;\n",
       "    }\n",
       "\n",
       "    .dataframe tbody tr th {\n",
       "        vertical-align: top;\n",
       "    }\n",
       "\n",
       "    .dataframe thead th {\n",
       "        text-align: right;\n",
       "    }\n",
       "</style>\n",
       "<table border=\"1\" class=\"dataframe\">\n",
       "  <thead>\n",
       "    <tr style=\"text-align: right;\">\n",
       "      <th></th>\n",
       "      <th>HEATER</th>\n",
       "      <th>SMALL_LAMP</th>\n",
       "      <th>BIG_LAMP</th>\n",
       "      <th>EXT_T</th>\n",
       "      <th>TOP_T</th>\n",
       "      <th>MIDDLE_T</th>\n",
       "      <th>ENERGY_PULSES</th>\n",
       "      <th>ENERGY_WH</th>\n",
       "      <th>DATE</th>\n",
       "      <th>INDEX</th>\n",
       "      <th>...</th>\n",
       "      <th>TOP_T_median_6</th>\n",
       "      <th>TOP_T_min_6</th>\n",
       "      <th>TOP_T_max_6</th>\n",
       "      <th>MIDDLE_T_mean_6</th>\n",
       "      <th>MIDDLE_T_mean_decay_6</th>\n",
       "      <th>MIDDLE_T_median_6</th>\n",
       "      <th>MIDDLE_T_min_6</th>\n",
       "      <th>MIDDLE_T_max_6</th>\n",
       "      <th>HEATER_M1</th>\n",
       "      <th>HEATER_M0</th>\n",
       "    </tr>\n",
       "  </thead>\n",
       "  <tbody>\n",
       "    <tr>\n",
       "      <th>0</th>\n",
       "      <td>3</td>\n",
       "      <td>0.0</td>\n",
       "      <td>0.0</td>\n",
       "      <td>0.12</td>\n",
       "      <td>51.04</td>\n",
       "      <td>46.46</td>\n",
       "      <td>42.6</td>\n",
       "      <td>7.0</td>\n",
       "      <td>2019-01-31 01:29:23</td>\n",
       "      <td>17</td>\n",
       "      <td>...</td>\n",
       "      <td>45.599998</td>\n",
       "      <td>43.459999</td>\n",
       "      <td>49.900002</td>\n",
       "      <td>42.183334</td>\n",
       "      <td>198.948364</td>\n",
       "      <td>41.570000</td>\n",
       "      <td>40.320000</td>\n",
       "      <td>44.900002</td>\n",
       "      <td>3</td>\n",
       "      <td>3</td>\n",
       "    </tr>\n",
       "    <tr>\n",
       "      <th>1</th>\n",
       "      <td>1</td>\n",
       "      <td>0.0</td>\n",
       "      <td>0.0</td>\n",
       "      <td>0.12</td>\n",
       "      <td>51.62</td>\n",
       "      <td>46.94</td>\n",
       "      <td>41.8</td>\n",
       "      <td>6.8</td>\n",
       "      <td>2019-01-31 01:34:23</td>\n",
       "      <td>18</td>\n",
       "      <td>...</td>\n",
       "      <td>46.660000</td>\n",
       "      <td>44.939999</td>\n",
       "      <td>50.320000</td>\n",
       "      <td>43.063332</td>\n",
       "      <td>203.225830</td>\n",
       "      <td>42.740002</td>\n",
       "      <td>41.099998</td>\n",
       "      <td>45.599998</td>\n",
       "      <td>3</td>\n",
       "      <td>1</td>\n",
       "    </tr>\n",
       "    <tr>\n",
       "      <th>2</th>\n",
       "      <td>2</td>\n",
       "      <td>0.0</td>\n",
       "      <td>0.0</td>\n",
       "      <td>0.22</td>\n",
       "      <td>51.44</td>\n",
       "      <td>47.04</td>\n",
       "      <td>33.8</td>\n",
       "      <td>5.4</td>\n",
       "      <td>2019-01-31 01:39:23</td>\n",
       "      <td>19</td>\n",
       "      <td>...</td>\n",
       "      <td>48.549999</td>\n",
       "      <td>44.939999</td>\n",
       "      <td>51.040001</td>\n",
       "      <td>43.956665</td>\n",
       "      <td>207.521027</td>\n",
       "      <td>44.270000</td>\n",
       "      <td>41.299999</td>\n",
       "      <td>46.459999</td>\n",
       "      <td>1</td>\n",
       "      <td>2</td>\n",
       "    </tr>\n",
       "  </tbody>\n",
       "</table>\n",
       "<p>3 rows × 110 columns</p>\n",
       "</div>"
      ],
      "text/plain": [
       "   HEATER  SMALL_LAMP  BIG_LAMP  EXT_T  TOP_T  MIDDLE_T  ENERGY_PULSES  \\\n",
       "0       3         0.0       0.0   0.12  51.04     46.46           42.6   \n",
       "1       1         0.0       0.0   0.12  51.62     46.94           41.8   \n",
       "2       2         0.0       0.0   0.22  51.44     47.04           33.8   \n",
       "\n",
       "   ENERGY_WH                DATE  INDEX    ...      TOP_T_median_6  \\\n",
       "0        7.0 2019-01-31 01:29:23     17    ...           45.599998   \n",
       "1        6.8 2019-01-31 01:34:23     18    ...           46.660000   \n",
       "2        5.4 2019-01-31 01:39:23     19    ...           48.549999   \n",
       "\n",
       "   TOP_T_min_6  TOP_T_max_6  MIDDLE_T_mean_6  MIDDLE_T_mean_decay_6  \\\n",
       "0    43.459999    49.900002        42.183334             198.948364   \n",
       "1    44.939999    50.320000        43.063332             203.225830   \n",
       "2    44.939999    51.040001        43.956665             207.521027   \n",
       "\n",
       "   MIDDLE_T_median_6  MIDDLE_T_min_6  MIDDLE_T_max_6  HEATER_M1  HEATER_M0  \n",
       "0          41.570000       40.320000       44.900002          3          3  \n",
       "1          42.740002       41.099998       45.599998          3          1  \n",
       "2          44.270000       41.299999       46.459999          1          2  \n",
       "\n",
       "[3 rows x 110 columns]"
      ]
     },
     "execution_count": 55,
     "metadata": {},
     "output_type": "execute_result"
    }
   ],
   "source": [
    "# load data\n",
    "forecast_period = 2\n",
    "freq = '60s'\n",
    "mode_col = 'HEATER'\n",
    "data = pd.read_parquet('./data/dataset_featured_v1.parquet')\n",
    "data = data.sort_values(by=['DATE']).reset_index(drop=True)\n",
    "print('Shape: ', data.shape)\n",
    "data.head(3)"
   ]
  },
  {
   "cell_type": "code",
   "execution_count": 56,
   "metadata": {},
   "outputs": [],
   "source": [
    "assert data['DATE'].unique().shape[0] == data.shape[0]"
   ]
  },
  {
   "cell_type": "code",
   "execution_count": 57,
   "metadata": {},
   "outputs": [],
   "source": [
    "val_size = 12 * 12 # 2 hours\n",
    "test_size = 12 * 12 # \n",
    "\n",
    "data_trainval = data.iloc[:-test_size].copy()\n",
    "\n",
    "data_train = data.iloc[:-(val_size + test_size)].copy()\n",
    "data_val = data.iloc[-(val_size + test_size): -test_size].copy()\n",
    "data_test = data.iloc[-test_size:].copy()\n",
    "\n",
    "del data"
   ]
  },
  {
   "cell_type": "code",
   "execution_count": 58,
   "metadata": {},
   "outputs": [],
   "source": [
    "future_cols = ['HEATER_M' + str(i) for i in range(forecast_period)]\n",
    "future_cols.extend(['INDEX', 'EXT_T', 'MIDDLE_T', 'TOP_T', 'DATE', 'HEATER_M'])\n",
    "\n",
    "features = [s for s in data_train.columns if s not in future_cols]\n",
    "target_label = ['MIDDLE_T']"
   ]
  },
  {
   "cell_type": "code",
   "execution_count": 59,
   "metadata": {},
   "outputs": [],
   "source": [
    "from sklearn.model_selection import GridSearchCV,TimeSeriesSplit\n",
    "from sklearn.linear_model import Lasso, Ridge\n",
    "from sklearn.svm import SVR\n",
    "from sklearn.ensemble import RandomForestRegressor\n",
    "from sklearn.metrics import mean_squared_error, r2_score, mean_absolute_error"
   ]
  },
  {
   "cell_type": "code",
   "execution_count": 107,
   "metadata": {},
   "outputs": [],
   "source": [
    "dts = lgb.Dataset(data_train[features], label=data_train[target_label])\n",
    "dts = dts.construct()\n",
    "dtsv = dts.create_valid(data_val[features], label=data_val[target_label])"
   ]
  },
  {
   "cell_type": "code",
   "execution_count": 158,
   "metadata": {},
   "outputs": [],
   "source": [
    "params = {\n",
    "    'application': 'regression_l2',\n",
    "    'learning_rate': 0.04,\n",
    "    'reg_alpha': 1e-3,\n",
    "    #'min_data_in_leaf': 3,\n",
    "    'num_leaves': 9,\n",
    "    'metric': 'l2'\n",
    "}"
   ]
  },
  {
   "cell_type": "code",
   "execution_count": 159,
   "metadata": {
    "scrolled": true
   },
   "outputs": [
    {
     "name": "stdout",
     "output_type": "stream",
     "text": [
      "[1]\tValidation's l2: 20.9979\n",
      "Training until validation scores don't improve for 10 rounds.\n",
      "[2]\tValidation's l2: 19.7713\n",
      "[3]\tValidation's l2: 18.671\n",
      "[4]\tValidation's l2: 17.588\n",
      "[5]\tValidation's l2: 16.6261\n",
      "[6]\tValidation's l2: 15.7394\n",
      "[7]\tValidation's l2: 14.8696\n",
      "[8]\tValidation's l2: 14.0557\n",
      "[9]\tValidation's l2: 13.2992\n",
      "[10]\tValidation's l2: 12.6386\n",
      "[11]\tValidation's l2: 11.975\n",
      "[12]\tValidation's l2: 11.3676\n",
      "[13]\tValidation's l2: 10.8101\n",
      "[14]\tValidation's l2: 10.2759\n",
      "[15]\tValidation's l2: 9.78235\n",
      "[16]\tValidation's l2: 9.33586\n",
      "[17]\tValidation's l2: 8.89688\n",
      "[18]\tValidation's l2: 8.47514\n",
      "[19]\tValidation's l2: 8.09577\n",
      "[20]\tValidation's l2: 7.72734\n",
      "[21]\tValidation's l2: 7.40371\n",
      "[22]\tValidation's l2: 7.09204\n",
      "[23]\tValidation's l2: 6.79572\n",
      "[24]\tValidation's l2: 6.51653\n",
      "[25]\tValidation's l2: 6.24537\n",
      "[26]\tValidation's l2: 6.00212\n",
      "[27]\tValidation's l2: 5.78064\n",
      "[28]\tValidation's l2: 5.54347\n",
      "[29]\tValidation's l2: 5.33109\n",
      "[30]\tValidation's l2: 5.13431\n",
      "[31]\tValidation's l2: 4.94551\n",
      "[32]\tValidation's l2: 4.77099\n",
      "[33]\tValidation's l2: 4.61035\n",
      "[34]\tValidation's l2: 4.4473\n",
      "[35]\tValidation's l2: 4.2937\n",
      "[36]\tValidation's l2: 4.15702\n",
      "[37]\tValidation's l2: 4.02342\n",
      "[38]\tValidation's l2: 3.90041\n",
      "[39]\tValidation's l2: 3.78592\n",
      "[40]\tValidation's l2: 3.66204\n",
      "[41]\tValidation's l2: 3.55971\n",
      "[42]\tValidation's l2: 3.45327\n",
      "[43]\tValidation's l2: 3.33352\n",
      "[44]\tValidation's l2: 3.23781\n",
      "[45]\tValidation's l2: 3.14473\n",
      "[46]\tValidation's l2: 3.06242\n",
      "[47]\tValidation's l2: 2.96048\n",
      "[48]\tValidation's l2: 2.89956\n",
      "[49]\tValidation's l2: 2.80109\n",
      "[50]\tValidation's l2: 2.74923\n",
      "[51]\tValidation's l2: 2.68816\n",
      "[52]\tValidation's l2: 2.62223\n",
      "[53]\tValidation's l2: 2.55568\n",
      "[54]\tValidation's l2: 2.50296\n",
      "[55]\tValidation's l2: 2.45252\n",
      "[56]\tValidation's l2: 2.4072\n",
      "[57]\tValidation's l2: 2.35527\n",
      "[58]\tValidation's l2: 2.31616\n",
      "[59]\tValidation's l2: 2.26872\n",
      "[60]\tValidation's l2: 2.2237\n",
      "[61]\tValidation's l2: 2.17547\n",
      "[62]\tValidation's l2: 2.13062\n",
      "[63]\tValidation's l2: 2.0966\n",
      "[64]\tValidation's l2: 2.0636\n",
      "[65]\tValidation's l2: 2.02446\n",
      "[66]\tValidation's l2: 1.98869\n",
      "[67]\tValidation's l2: 1.95257\n",
      "[68]\tValidation's l2: 1.92447\n",
      "[69]\tValidation's l2: 1.89922\n",
      "[70]\tValidation's l2: 1.86656\n",
      "[71]\tValidation's l2: 1.83735\n",
      "[72]\tValidation's l2: 1.81175\n",
      "[73]\tValidation's l2: 1.79042\n",
      "[74]\tValidation's l2: 1.75991\n",
      "[75]\tValidation's l2: 1.73638\n",
      "[76]\tValidation's l2: 1.71121\n",
      "[77]\tValidation's l2: 1.68425\n",
      "[78]\tValidation's l2: 1.66261\n",
      "[79]\tValidation's l2: 1.63653\n",
      "[80]\tValidation's l2: 1.61923\n",
      "[81]\tValidation's l2: 1.60319\n",
      "[82]\tValidation's l2: 1.58078\n",
      "[83]\tValidation's l2: 1.55832\n",
      "[84]\tValidation's l2: 1.53781\n",
      "[85]\tValidation's l2: 1.51112\n",
      "[86]\tValidation's l2: 1.49039\n",
      "[87]\tValidation's l2: 1.4748\n",
      "[88]\tValidation's l2: 1.4492\n",
      "[89]\tValidation's l2: 1.43262\n",
      "[90]\tValidation's l2: 1.41743\n",
      "[91]\tValidation's l2: 1.40137\n",
      "[92]\tValidation's l2: 1.38879\n",
      "[93]\tValidation's l2: 1.37317\n",
      "[94]\tValidation's l2: 1.35942\n",
      "[95]\tValidation's l2: 1.34421\n",
      "[96]\tValidation's l2: 1.32202\n",
      "[97]\tValidation's l2: 1.3047\n",
      "[98]\tValidation's l2: 1.29867\n",
      "[99]\tValidation's l2: 1.28423\n",
      "[100]\tValidation's l2: 1.27226\n",
      "[101]\tValidation's l2: 1.26093\n",
      "[102]\tValidation's l2: 1.24894\n",
      "[103]\tValidation's l2: 1.23631\n",
      "[104]\tValidation's l2: 1.22456\n",
      "[105]\tValidation's l2: 1.21636\n",
      "[106]\tValidation's l2: 1.20911\n",
      "[107]\tValidation's l2: 1.19315\n",
      "[108]\tValidation's l2: 1.18224\n",
      "[109]\tValidation's l2: 1.17511\n",
      "[110]\tValidation's l2: 1.16508\n",
      "[111]\tValidation's l2: 1.15474\n",
      "[112]\tValidation's l2: 1.14075\n",
      "[113]\tValidation's l2: 1.12691\n",
      "[114]\tValidation's l2: 1.12188\n",
      "[115]\tValidation's l2: 1.11267\n",
      "[116]\tValidation's l2: 1.10402\n",
      "[117]\tValidation's l2: 1.10073\n",
      "[118]\tValidation's l2: 1.09418\n",
      "[119]\tValidation's l2: 1.08784\n",
      "[120]\tValidation's l2: 1.07837\n",
      "[121]\tValidation's l2: 1.07296\n",
      "[122]\tValidation's l2: 1.06848\n",
      "[123]\tValidation's l2: 1.06318\n",
      "[124]\tValidation's l2: 1.05265\n",
      "[125]\tValidation's l2: 1.04733\n",
      "[126]\tValidation's l2: 1.03982\n",
      "[127]\tValidation's l2: 1.03541\n",
      "[128]\tValidation's l2: 1.02957\n",
      "[129]\tValidation's l2: 1.02626\n",
      "[130]\tValidation's l2: 1.02392\n",
      "[131]\tValidation's l2: 1.01676\n",
      "[132]\tValidation's l2: 1.01401\n",
      "[133]\tValidation's l2: 1.01017\n",
      "[134]\tValidation's l2: 1.00539\n",
      "[135]\tValidation's l2: 1.00146\n",
      "[136]\tValidation's l2: 0.998296\n",
      "[137]\tValidation's l2: 0.993716\n",
      "[138]\tValidation's l2: 0.988499\n",
      "[139]\tValidation's l2: 0.985609\n",
      "[140]\tValidation's l2: 0.98321\n",
      "[141]\tValidation's l2: 0.985709\n",
      "[142]\tValidation's l2: 0.981098\n",
      "[143]\tValidation's l2: 0.977726\n",
      "[144]\tValidation's l2: 0.976204\n",
      "[145]\tValidation's l2: 0.972356\n",
      "[146]\tValidation's l2: 0.969649\n",
      "[147]\tValidation's l2: 0.968368\n",
      "[148]\tValidation's l2: 0.964147\n",
      "[149]\tValidation's l2: 0.960621\n",
      "[150]\tValidation's l2: 0.959385\n",
      "[151]\tValidation's l2: 0.95629\n",
      "[152]\tValidation's l2: 0.954036\n",
      "[153]\tValidation's l2: 0.951687\n",
      "[154]\tValidation's l2: 0.949271\n",
      "[155]\tValidation's l2: 0.94469\n",
      "[156]\tValidation's l2: 0.944795\n",
      "[157]\tValidation's l2: 0.942124\n",
      "[158]\tValidation's l2: 0.942229\n",
      "[159]\tValidation's l2: 0.940339\n",
      "[160]\tValidation's l2: 0.939697\n",
      "[161]\tValidation's l2: 0.938223\n",
      "[162]\tValidation's l2: 0.936264\n",
      "[163]\tValidation's l2: 0.937664\n",
      "[164]\tValidation's l2: 0.937135\n",
      "[165]\tValidation's l2: 0.937283\n",
      "[166]\tValidation's l2: 0.935041\n",
      "[167]\tValidation's l2: 0.932749\n",
      "[168]\tValidation's l2: 0.933491\n",
      "[169]\tValidation's l2: 0.933365\n",
      "[170]\tValidation's l2: 0.931742\n",
      "[171]\tValidation's l2: 0.931671\n",
      "[172]\tValidation's l2: 0.928806\n",
      "[173]\tValidation's l2: 0.928621\n",
      "[174]\tValidation's l2: 0.927135\n",
      "[175]\tValidation's l2: 0.925517\n",
      "[176]\tValidation's l2: 0.924145\n",
      "[177]\tValidation's l2: 0.923658\n",
      "[178]\tValidation's l2: 0.923018\n",
      "[179]\tValidation's l2: 0.920822\n",
      "[180]\tValidation's l2: 0.9201\n",
      "[181]\tValidation's l2: 0.921235\n",
      "[182]\tValidation's l2: 0.919805\n",
      "[183]\tValidation's l2: 0.919481\n",
      "[184]\tValidation's l2: 0.917426\n",
      "[185]\tValidation's l2: 0.914736\n",
      "[186]\tValidation's l2: 0.914475\n",
      "[187]\tValidation's l2: 0.914026\n",
      "[188]\tValidation's l2: 0.912996\n",
      "[189]\tValidation's l2: 0.912368\n",
      "[190]\tValidation's l2: 0.910896\n",
      "[191]\tValidation's l2: 0.910123\n",
      "[192]\tValidation's l2: 0.90952\n",
      "[193]\tValidation's l2: 0.909877\n",
      "[194]\tValidation's l2: 0.909887\n",
      "[195]\tValidation's l2: 0.910437\n",
      "[196]\tValidation's l2: 0.910045\n",
      "[197]\tValidation's l2: 0.910173\n",
      "[198]\tValidation's l2: 0.912275\n",
      "[199]\tValidation's l2: 0.911228\n",
      "[200]\tValidation's l2: 0.910441\n",
      "[201]\tValidation's l2: 0.909886\n",
      "[202]\tValidation's l2: 0.909633\n",
      "Early stopping, best iteration is:\n",
      "[192]\tValidation's l2: 0.90952\n"
     ]
    }
   ],
   "source": [
    "bst = lgb.train(params, dts, valid_sets = [dtsv], valid_names = ['Validation'],\n",
    "                num_boost_round = 10000, early_stopping_rounds = 10)"
   ]
  },
  {
   "cell_type": "code",
   "execution_count": 160,
   "metadata": {},
   "outputs": [],
   "source": [
    "# save(bst, './saved_models/3min/lgbm_3min_v1.pkl')"
   ]
  },
  {
   "cell_type": "code",
   "execution_count": 161,
   "metadata": {},
   "outputs": [],
   "source": [
    "y_test = bst.predict(data_test[features])\n",
    "y_val = bst.predict(data_val[features])\n",
    "y_train = bst.predict(data_train[features])"
   ]
  },
  {
   "cell_type": "code",
   "execution_count": 65,
   "metadata": {},
   "outputs": [
    {
     "name": "stdout",
     "output_type": "stream",
     "text": [
      "MAE on train: 0.420\n",
      "MAE on val: 0.769\n",
      "MAE on test: 0.567\n",
      "\n",
      "RMSE on train: 0.53\n",
      "RMSE on val: 0.99\n",
      "RMSE on test: 0.72\n"
     ]
    }
   ],
   "source": [
    "#print('CV score: %.3f' % grid_lgb.best_score_)\n",
    "print('MAE on train: %.3f' % mean_absolute_error(data_train[target_label].values, y_train))\n",
    "print('MAE on val: %.3f' % mean_absolute_error(data_val[target_label].values, y_val))\n",
    "print('MAE on test: %.3f' % mean_absolute_error(data_test[target_label].values, y_test))\n",
    "print()\n",
    "print('RMSE on train: %.2f' % np.sqrt(mean_squared_error(data_train[target_label].values, y_train)))\n",
    "print('RMSE on val: %.2f' % np.sqrt(mean_squared_error(data_val[target_label].values, y_val)))\n",
    "print('RMSE on test: %.2f' % np.sqrt(mean_squared_error(data_test[target_label].values, y_test)))"
   ]
  },
  {
   "cell_type": "code",
   "execution_count": 162,
   "metadata": {
    "scrolled": true
   },
   "outputs": [
    {
     "name": "stdout",
     "output_type": "stream",
     "text": [
      "MAE on train: 0.371\n",
      "MAE on val: 0.749\n",
      "MAE on test: 0.566\n",
      "\n",
      "RMSE on train: 0.47\n",
      "RMSE on val: 0.95\n",
      "RMSE on test: 0.72\n"
     ]
    }
   ],
   "source": [
    "#print('CV score: %.3f' % grid_lgb.best_score_)\n",
    "print('MAE on train: %.3f' % mean_absolute_error(data_train[target_label].values, y_train))\n",
    "print('MAE on val: %.3f' % mean_absolute_error(data_val[target_label].values, y_val))\n",
    "print('MAE on test: %.3f' % mean_absolute_error(data_test[target_label].values, y_test))\n",
    "print()\n",
    "print('RMSE on train: %.2f' % np.sqrt(mean_squared_error(data_train[target_label].values, y_train)))\n",
    "print('RMSE on val: %.2f' % np.sqrt(mean_squared_error(data_val[target_label].values, y_val)))\n",
    "print('RMSE on test: %.2f' % np.sqrt(mean_squared_error(data_test[target_label].values, y_test)))"
   ]
  },
  {
   "cell_type": "code",
   "execution_count": 163,
   "metadata": {},
   "outputs": [],
   "source": [
    "dts = lgb.Dataset(data_trainval[features], label=data_trainval[target_label])\n",
    "dts = dts.construct()\n",
    "dtst = dts.create_valid(data_test[features], label=data_test[target_label])"
   ]
  },
  {
   "cell_type": "code",
   "execution_count": 164,
   "metadata": {
    "scrolled": true
   },
   "outputs": [
    {
     "name": "stdout",
     "output_type": "stream",
     "text": [
      "[1]\tTest's l2: 13.7732\n",
      "Training until validation scores don't improve for 10 rounds.\n",
      "[2]\tTest's l2: 12.8632\n",
      "[3]\tTest's l2: 12.0078\n",
      "[4]\tTest's l2: 11.1925\n",
      "[5]\tTest's l2: 10.4819\n",
      "[6]\tTest's l2: 9.81884\n",
      "[7]\tTest's l2: 9.20187\n",
      "[8]\tTest's l2: 8.63151\n",
      "[9]\tTest's l2: 8.09917\n",
      "[10]\tTest's l2: 7.62056\n",
      "[11]\tTest's l2: 7.16818\n",
      "[12]\tTest's l2: 6.7509\n",
      "[13]\tTest's l2: 6.36448\n",
      "[14]\tTest's l2: 5.99123\n",
      "[15]\tTest's l2: 5.65547\n",
      "[16]\tTest's l2: 5.33514\n",
      "[17]\tTest's l2: 5.05163\n",
      "[18]\tTest's l2: 4.78047\n",
      "[19]\tTest's l2: 4.5199\n",
      "[20]\tTest's l2: 4.28887\n",
      "[21]\tTest's l2: 4.07863\n",
      "[22]\tTest's l2: 3.86772\n",
      "[23]\tTest's l2: 3.67404\n",
      "[24]\tTest's l2: 3.49737\n",
      "[25]\tTest's l2: 3.33071\n",
      "[26]\tTest's l2: 3.1931\n",
      "[27]\tTest's l2: 3.04638\n",
      "[28]\tTest's l2: 2.91335\n",
      "[29]\tTest's l2: 2.79399\n",
      "[30]\tTest's l2: 2.66949\n",
      "[31]\tTest's l2: 2.5899\n",
      "[32]\tTest's l2: 2.48232\n",
      "[33]\tTest's l2: 2.39233\n",
      "[34]\tTest's l2: 2.29213\n",
      "[35]\tTest's l2: 2.20345\n",
      "[36]\tTest's l2: 2.12115\n",
      "[37]\tTest's l2: 2.02663\n",
      "[38]\tTest's l2: 1.96869\n",
      "[39]\tTest's l2: 1.91513\n",
      "[40]\tTest's l2: 1.84248\n",
      "[41]\tTest's l2: 1.79464\n",
      "[42]\tTest's l2: 1.7338\n",
      "[43]\tTest's l2: 1.68823\n",
      "[44]\tTest's l2: 1.62507\n",
      "[45]\tTest's l2: 1.57683\n",
      "[46]\tTest's l2: 1.52899\n",
      "[47]\tTest's l2: 1.49045\n",
      "[48]\tTest's l2: 1.43905\n",
      "[49]\tTest's l2: 1.40968\n",
      "[50]\tTest's l2: 1.38056\n",
      "[51]\tTest's l2: 1.33292\n",
      "[52]\tTest's l2: 1.30944\n",
      "[53]\tTest's l2: 1.27359\n",
      "[54]\tTest's l2: 1.23363\n",
      "[55]\tTest's l2: 1.20336\n",
      "[56]\tTest's l2: 1.16732\n",
      "[57]\tTest's l2: 1.14569\n",
      "[58]\tTest's l2: 1.12531\n",
      "[59]\tTest's l2: 1.09521\n",
      "[60]\tTest's l2: 1.07863\n",
      "[61]\tTest's l2: 1.06315\n",
      "[62]\tTest's l2: 1.03875\n",
      "[63]\tTest's l2: 1.01448\n",
      "[64]\tTest's l2: 0.997624\n",
      "[65]\tTest's l2: 0.973698\n",
      "[66]\tTest's l2: 0.962734\n",
      "[67]\tTest's l2: 0.94855\n",
      "[68]\tTest's l2: 0.93838\n",
      "[69]\tTest's l2: 0.926677\n",
      "[70]\tTest's l2: 0.913992\n",
      "[71]\tTest's l2: 0.904506\n",
      "[72]\tTest's l2: 0.887272\n",
      "[73]\tTest's l2: 0.872668\n",
      "[74]\tTest's l2: 0.85849\n",
      "[75]\tTest's l2: 0.84816\n",
      "[76]\tTest's l2: 0.836261\n",
      "[77]\tTest's l2: 0.828241\n",
      "[78]\tTest's l2: 0.816618\n",
      "[79]\tTest's l2: 0.803921\n",
      "[80]\tTest's l2: 0.796523\n",
      "[81]\tTest's l2: 0.786664\n",
      "[82]\tTest's l2: 0.776095\n",
      "[83]\tTest's l2: 0.76538\n",
      "[84]\tTest's l2: 0.759279\n",
      "[85]\tTest's l2: 0.75547\n",
      "[86]\tTest's l2: 0.747358\n",
      "[87]\tTest's l2: 0.740059\n",
      "[88]\tTest's l2: 0.730441\n",
      "[89]\tTest's l2: 0.721796\n",
      "[90]\tTest's l2: 0.716197\n",
      "[91]\tTest's l2: 0.711268\n",
      "[92]\tTest's l2: 0.706348\n",
      "[93]\tTest's l2: 0.699345\n",
      "[94]\tTest's l2: 0.688642\n",
      "[95]\tTest's l2: 0.682442\n",
      "[96]\tTest's l2: 0.676884\n",
      "[97]\tTest's l2: 0.671693\n",
      "[98]\tTest's l2: 0.668319\n",
      "[99]\tTest's l2: 0.659141\n",
      "[100]\tTest's l2: 0.65457\n",
      "[101]\tTest's l2: 0.650258\n",
      "[102]\tTest's l2: 0.643665\n",
      "[103]\tTest's l2: 0.640925\n",
      "[104]\tTest's l2: 0.633199\n",
      "[105]\tTest's l2: 0.627151\n",
      "[106]\tTest's l2: 0.618002\n",
      "[107]\tTest's l2: 0.61557\n",
      "[108]\tTest's l2: 0.611141\n",
      "[109]\tTest's l2: 0.603833\n",
      "[110]\tTest's l2: 0.599708\n",
      "[111]\tTest's l2: 0.594034\n",
      "[112]\tTest's l2: 0.589172\n",
      "[113]\tTest's l2: 0.584884\n",
      "[114]\tTest's l2: 0.583627\n",
      "[115]\tTest's l2: 0.582551\n",
      "[116]\tTest's l2: 0.577929\n",
      "[117]\tTest's l2: 0.575719\n",
      "[118]\tTest's l2: 0.572877\n",
      "[119]\tTest's l2: 0.569258\n",
      "[120]\tTest's l2: 0.568821\n",
      "[121]\tTest's l2: 0.565472\n",
      "[122]\tTest's l2: 0.56431\n",
      "[123]\tTest's l2: 0.56192\n",
      "[124]\tTest's l2: 0.559185\n",
      "[125]\tTest's l2: 0.558526\n",
      "[126]\tTest's l2: 0.556105\n",
      "[127]\tTest's l2: 0.55292\n",
      "[128]\tTest's l2: 0.551352\n",
      "[129]\tTest's l2: 0.548329\n",
      "[130]\tTest's l2: 0.545403\n",
      "[131]\tTest's l2: 0.54481\n",
      "[132]\tTest's l2: 0.540677\n",
      "[133]\tTest's l2: 0.539765\n",
      "[134]\tTest's l2: 0.538342\n",
      "[135]\tTest's l2: 0.53579\n",
      "[136]\tTest's l2: 0.533875\n",
      "[137]\tTest's l2: 0.533825\n",
      "[138]\tTest's l2: 0.534429\n",
      "[139]\tTest's l2: 0.531944\n",
      "[140]\tTest's l2: 0.529088\n",
      "[141]\tTest's l2: 0.529161\n",
      "[142]\tTest's l2: 0.52792\n",
      "[143]\tTest's l2: 0.525878\n",
      "[144]\tTest's l2: 0.525621\n",
      "[145]\tTest's l2: 0.524713\n",
      "[146]\tTest's l2: 0.52515\n",
      "[147]\tTest's l2: 0.525821\n",
      "[148]\tTest's l2: 0.522978\n",
      "[149]\tTest's l2: 0.520252\n",
      "[150]\tTest's l2: 0.519748\n",
      "[151]\tTest's l2: 0.518379\n",
      "[152]\tTest's l2: 0.517126\n",
      "[153]\tTest's l2: 0.516539\n",
      "[154]\tTest's l2: 0.515811\n",
      "[155]\tTest's l2: 0.516545\n",
      "[156]\tTest's l2: 0.514762\n",
      "[157]\tTest's l2: 0.514418\n",
      "[158]\tTest's l2: 0.514038\n",
      "[159]\tTest's l2: 0.513049\n",
      "[160]\tTest's l2: 0.51277\n",
      "[161]\tTest's l2: 0.511567\n",
      "[162]\tTest's l2: 0.510864\n",
      "[163]\tTest's l2: 0.510168\n",
      "[164]\tTest's l2: 0.511101\n",
      "[165]\tTest's l2: 0.512672\n",
      "[166]\tTest's l2: 0.513666\n",
      "[167]\tTest's l2: 0.513505\n",
      "[168]\tTest's l2: 0.513103\n",
      "[169]\tTest's l2: 0.513354\n",
      "[170]\tTest's l2: 0.513273\n",
      "[171]\tTest's l2: 0.513057\n",
      "[172]\tTest's l2: 0.512067\n",
      "[173]\tTest's l2: 0.512314\n",
      "Early stopping, best iteration is:\n",
      "[163]\tTest's l2: 0.510168\n"
     ]
    }
   ],
   "source": [
    "bst = lgb.train(params, dts, valid_sets = [dtst], valid_names = ['Test'],\n",
    "                num_boost_round=bst.best_iteration, early_stopping_rounds=10)"
   ]
  },
  {
   "cell_type": "code",
   "execution_count": 165,
   "metadata": {},
   "outputs": [],
   "source": [
    "y_trainval = bst.predict(data_trainval[features].values)\n",
    "y_test = bst.predict(data_test[features].values)"
   ]
  },
  {
   "cell_type": "code",
   "execution_count": 166,
   "metadata": {},
   "outputs": [
    {
     "name": "stdout",
     "output_type": "stream",
     "text": [
      "MAE on trainval: 0.371\n",
      "MAE on test: 0.552\n",
      "\n",
      "RMSE on trainval: 0.47\n",
      "RMSE on test: 0.71\n"
     ]
    }
   ],
   "source": [
    "#print('CV score: %.3f' % grid_lgb.best_score_)\n",
    "print('MAE on trainval: %.3f' % mean_absolute_error(data_train[target_label].values, y_train))\n",
    "print('MAE on test: %.3f' % mean_absolute_error(data_test[target_label].values, y_test))\n",
    "print()\n",
    "print('RMSE on trainval: %.2f' % np.sqrt(mean_squared_error(data_train[target_label].values, y_train)))\n",
    "print('RMSE on test: %.2f' % np.sqrt(mean_squared_error(data_test[target_label].values, y_test)))"
   ]
  },
  {
   "cell_type": "code",
   "execution_count": 94,
   "metadata": {},
   "outputs": [],
   "source": [
    "row = data_test.iloc[15:16].copy()"
   ]
  },
  {
   "cell_type": "code",
   "execution_count": 95,
   "metadata": {},
   "outputs": [
    {
     "data": {
      "text/plain": [
       "1366    2\n",
       "Name: HEATER_M2, dtype: int8"
      ]
     },
     "execution_count": 95,
     "metadata": {},
     "output_type": "execute_result"
    }
   ],
   "source": [
    "row['HEATER_M2']"
   ]
  },
  {
   "cell_type": "code",
   "execution_count": 101,
   "metadata": {},
   "outputs": [
    {
     "data": {
      "text/plain": [
       "1366    5\n",
       "Name: HEATER_M3, dtype: int8"
      ]
     },
     "execution_count": 101,
     "metadata": {},
     "output_type": "execute_result"
    }
   ],
   "source": [
    "row['HEATER_M3']"
   ]
  },
  {
   "cell_type": "code",
   "execution_count": 104,
   "metadata": {},
   "outputs": [],
   "source": [
    "row['HEATER_M3'] = 5"
   ]
  },
  {
   "cell_type": "code",
   "execution_count": 96,
   "metadata": {},
   "outputs": [],
   "source": [
    "row['HEATER_M2'] = 5"
   ]
  },
  {
   "cell_type": "code",
   "execution_count": 99,
   "metadata": {
    "scrolled": true
   },
   "outputs": [
    {
     "data": {
      "text/plain": [
       "array([47.94116072])"
      ]
     },
     "execution_count": 99,
     "metadata": {},
     "output_type": "execute_result"
    }
   ],
   "source": [
    "bst.predict(data_test.iloc[15:16][features])"
   ]
  },
  {
   "cell_type": "code",
   "execution_count": 103,
   "metadata": {
    "scrolled": true
   },
   "outputs": [
    {
     "data": {
      "text/plain": [
       "array([47.25384212])"
      ]
     },
     "execution_count": 103,
     "metadata": {},
     "output_type": "execute_result"
    }
   ],
   "source": [
    "bst.predict(row[features])"
   ]
  },
  {
   "cell_type": "code",
   "execution_count": 82,
   "metadata": {},
   "outputs": [],
   "source": [
    "row = data_test.iloc[15]"
   ]
  },
  {
   "cell_type": "code",
   "execution_count": 84,
   "metadata": {},
   "outputs": [
    {
     "data": {
      "text/plain": [
       "array([47.94116072])"
      ]
     },
     "execution_count": 84,
     "metadata": {},
     "output_type": "execute_result"
    }
   ],
   "source": [
    "bst.predict(data_test.iloc[15:16][features])"
   ]
  },
  {
   "cell_type": "code",
   "execution_count": 167,
   "metadata": {},
   "outputs": [],
   "source": [
    "sc = bst.feature_importance(importance_type = 'gain')\n",
    "score = pd.DataFrame(100 * sc / np.sum(sc),\n",
    "                     index = bst.feature_name(), columns = ['Score'])"
   ]
  },
  {
   "cell_type": "code",
   "execution_count": 168,
   "metadata": {},
   "outputs": [],
   "source": [
    "score = score.sort_values('Score', ascending=False)"
   ]
  },
  {
   "cell_type": "code",
   "execution_count": 169,
   "metadata": {},
   "outputs": [
    {
     "data": {
      "image/png": "[encoded data removed]",
      "text/plain": [
       "<Figure size 720x720 with 1 Axes>"
      ]
     },
     "metadata": {
      "needs_background": "light"
     },
     "output_type": "display_data"
    }
   ],
   "source": [
    "score.head(50).Score.plot.barh(grid=True, figsize=(10,10)).invert_yaxis()"
   ]
  },
  {
   "cell_type": "code",
   "execution_count": 170,
   "metadata": {},
   "outputs": [],
   "source": [
    "res = data_test[['DATE', 'MIDDLE_T', 'HEATER']].copy()\n",
    "res['PRED'] = y_test"
   ]
  },
  {
   "cell_type": "code",
   "execution_count": 171,
   "metadata": {},
   "outputs": [],
   "source": [
    "def plot_pred(results):\n",
    "    plt.figure(figsize=(18,10))\n",
    "    plt.title('Timeseries plot')\n",
    "    plt.plot(results['DATE'], results['MIDDLE_T'], c='green', ls='-', lw=1, label='$MIDDLE_T$')\n",
    "    plt.plot(results['DATE'], results['PRED'], 'r-.', lw=1, label='$\\hat{MIDDLE_T}$ pred')\n",
    "    #plt.plot(results['DATE'], results[mode_col] * max(results['MIDDLE_T']), 'c-', lw=0.5, label='$HEATER$')\n",
    "    plt.xlabel('Datetime')\n",
    "    plt.ylim((0, 60))\n",
    "    plt.legend(loc='best')\n",
    "    plt.show()"
   ]
  },
  {
   "cell_type": "code",
   "execution_count": 172,
   "metadata": {},
   "outputs": [
    {
     "data": {
      "image/png": "[encoded data removed]",
      "text/plain": [
       "<Figure size 1296x720 with 1 Axes>"
      ]
     },
     "metadata": {
      "needs_background": "light"
     },
     "output_type": "display_data"
    }
   ],
   "source": [
    "plot_pred(res)"
   ]
  },
  {
   "cell_type": "code",
   "execution_count": 173,
   "metadata": {},
   "outputs": [],
   "source": [
    "from sklearn.metrics import r2_score"
   ]
  },
  {
   "cell_type": "code",
   "execution_count": 174,
   "metadata": {},
   "outputs": [
    {
     "data": {
      "text/plain": [
       "0.9078706184200325"
      ]
     },
     "execution_count": 174,
     "metadata": {},
     "output_type": "execute_result"
    }
   ],
   "source": [
    "r2_score(data_test[target_label], y_test)"
   ]
  },
  {
   "cell_type": "code",
   "execution_count": 177,
   "metadata": {},
   "outputs": [
    {
     "data": {
      "text/plain": [
       "2.204765317065707"
      ]
     },
     "execution_count": 177,
     "metadata": {},
     "output_type": "execute_result"
    }
   ],
   "source": [
    "data_train.EXT_T.std()"
   ]
  },
  {
   "cell_type": "code",
   "execution_count": null,
   "metadata": {},
   "outputs": [],
   "source": []
  }
 ],
 "metadata": {
  "kernelspec": {
   "display_name": "Python 3",
   "language": "python",
   "name": "python3"
  },
  "language_info": {
   "codemirror_mode": {
    "name": "ipython",
    "version": 3
   },
   "file_extension": ".py",
   "mimetype": "text/x-python",
   "name": "python",
   "nbconvert_exporter": "python",
   "pygments_lexer": "ipython3",
   "version": "3.6.7"
  }
 },
 "nbformat": 4,
 "nbformat_minor": 2
}
